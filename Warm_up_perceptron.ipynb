{
  "nbformat": 4,
  "nbformat_minor": 0,
  "metadata": {
    "colab": {
      "name": "Warm up.ipynb",
      "provenance": [],
      "authorship_tag": "ABX9TyPfAmgSWXOEd2/oSrbe9X/H",
      "include_colab_link": true
    },
    "kernelspec": {
      "name": "python3",
      "display_name": "Python 3"
    },
    "language_info": {
      "name": "python"
    }
  },
  "cells": [
    {
      "cell_type": "markdown",
      "metadata": {
        "id": "view-in-github",
        "colab_type": "text"
      },
      "source": [
        "<a href=\"https://colab.research.google.com/github/psbruno/Redes-Neurais/blob/main/Warm_up.ipynb\" target=\"_parent\"><img src=\"https://colab.research.google.com/assets/colab-badge.svg\" alt=\"Open In Colab\"/></a>"
      ]
    },
    {
      "cell_type": "markdown",
      "metadata": {
        "id": "6Hmf0EhLVYN1"
      },
      "source": [
        "#Implementação de um neurônio"
      ]
    },
    {
      "cell_type": "code",
      "metadata": {
        "id": "QZqcs-8CYKaP"
      },
      "source": [
        "def weight(eta, e_k, x_ij):\n",
        "  return eta*e_k*x_ij\n",
        "  \n",
        "class neuronio(): \n",
        "  def __init__(self):\n",
        "    self.w1 = 0\n",
        "    self.w2 = 0\n",
        "    self.w3 = 0\n",
        "    self.w4 = 0\n",
        "  \n",
        "  # Ajuste dos pesos\n",
        "  def setW1(self,new_Weight):\n",
        "    self.w1 += new_Weight\n",
        "  def setW2(self,new_Weight):\n",
        "    self.w2 += new_Weight\n",
        "  def setW3(self,new_Weight):\n",
        "    self.w3 += new_Weight\n",
        "  def setW4(self,new_Weight):\n",
        "    self.w4 += new_Weight\n",
        "\n",
        "  def getPesos(self):\n",
        "    print(self.w1, self.w2, self.w3, self.w4)\n",
        "\n",
        "  # Cálculo das saídas\n",
        "  def f(self,x1,x2,x3,x4):\n",
        "    return x1*self.w1 + x2*self.w2 + x3*self.w3 + x4*self.w4\n"
      ],
      "execution_count": null,
      "outputs": []
    },
    {
      "cell_type": "markdown",
      "metadata": {
        "id": "aw1LlyXYVi4r"
      },
      "source": [
        "#Simulação"
      ]
    },
    {
      "cell_type": "code",
      "metadata": {
        "id": "KdRDQj8BHSS0"
      },
      "source": [
        "import pandas as pd\n",
        "ds=pd.read_csv(\"https://gist.githubusercontent.com/netj/8836201/raw/6f9306ad21398ea43cba4f7d537619d0e07d5ae3/iris.csv\")\n",
        "\n",
        "def confere(value):\n",
        "  if value > 0:\n",
        "    return 1;\n",
        "  else:\n",
        "     return 0\n",
        "def converte(specie):\n",
        "  if(specie=='Virginica'):\n",
        "    return 0,0,1\n",
        "  if(specie=='Versicolor'):\n",
        "    return 0,1,0\n",
        "  if(specie =='Setosa'):\n",
        "    return 1,0,0\n",
        "\n",
        "def Converte_contrario(code):\n",
        "  if(code==(0,0,1)):\n",
        "    return 'Virginica'\n",
        "  if(code==(0,1,0)):\n",
        "    return 'Versicolor'\n",
        "  if(code ==(1,0,0)):\n",
        "    return 'Setosa'\n",
        "\n",
        "def NeuronioSaida(s1,s2,s3):\n",
        "  if(s1>1):\n",
        "    s1 = 1\n",
        "  else:\n",
        "    s1 = 0\n",
        "  if(s2>1):\n",
        "    s2 = 1\n",
        "  else:\n",
        "    s2 = 0\n",
        "  if(s3>1):\n",
        "    s3 = 1\n",
        "  else:\n",
        "    s3 = 0\n",
        "\n",
        "  return s1,s2,s3\n",
        "\n",
        "\n",
        "\n",
        "\n",
        "neuronio1 = neuronio()\n",
        "neuronio2 = neuronio()\n",
        "neuronio3 = neuronio()\n",
        "\n",
        "eta=1\n",
        "ds = ds.sample(frac=1).reset_index().drop(columns='index')\n",
        "k=0\n",
        "treino = ds[0:105]\n",
        "teste = ds[105:150]\n",
        "for i in range (0,105):\n",
        "  esperado = converte(treino['variety'].iloc[i])\n",
        "  obtido = neuronio1.f(\n",
        "      (treino['sepal.length'].iloc[i]), (treino['sepal.width'].iloc[i]),\n",
        "      (treino['petal.length'].iloc[i]), (treino['petal.width'].iloc[i])\n",
        "      )\n",
        "  neuronio1.setW1(weight(eta,esperado[0] - confere(obtido), treino['sepal.length'].iloc[i]))\n",
        "  neuronio1.setW2(weight(eta,esperado[0] - confere(obtido), treino['sepal.width'].iloc[i]))\n",
        "  neuronio1.setW3(weight(eta,esperado[0] - confere(obtido), treino['petal.length'].iloc[i]))\n",
        "  neuronio1.setW4(weight(eta,esperado[0] - confere(obtido), treino['petal.width'].iloc[i]))\n",
        "\n",
        "\n",
        "  obtido = neuronio2.f(\n",
        "      treino['sepal.length'].iloc[i], treino['sepal.width'].iloc[i],\n",
        "      treino['petal.length'].iloc[i], treino['petal.width'].iloc[i]      \n",
        "      )\n",
        "  neuronio2.setW1(weight(eta,esperado[1] - confere(obtido), treino['sepal.length'].iloc[i]))\n",
        "  neuronio2.setW2(weight(eta,esperado[1] - confere(obtido), treino['sepal.width'].iloc[i]))\n",
        "  neuronio2.setW3(weight(eta,esperado[1] - confere(obtido), treino['petal.length'].iloc[i]))\n",
        "  neuronio2.setW4(weight(eta,esperado[1] - confere(obtido), treino['petal.width'].iloc[i]))\n",
        "\n",
        "  obtido = neuronio3.f(\n",
        "      treino['sepal.length'].iloc[i], treino['sepal.width'].iloc[i],\n",
        "      treino['petal.length'].iloc[i], treino['petal.width'].iloc[i]     \n",
        "      )\n",
        "  neuronio3.setW1(weight(eta,esperado[2] - confere(obtido), treino['sepal.length'].iloc[i]))\n",
        "  neuronio3.setW2(weight(eta,esperado[2] - confere(obtido), treino['sepal.width'].iloc[i]))\n",
        "  neuronio3.setW3(weight(eta,esperado[2] - confere(obtido), treino['petal.length'].iloc[i]))\n",
        "  neuronio3.setW4(weight(eta,esperado[2] - confere(obtido), treino['petal.width'].iloc[i]))\n",
        "\n",
        "\n",
        "acuracia =0 \n",
        "for i in range (0,35):\n",
        "  s1 = neuronio1.f(teste['sepal.length'].iloc[i], teste['sepal.width'].iloc[i],\n",
        "        teste['petal.length'].iloc[i], teste['petal.width'].iloc[i])\n",
        "  s2 = neuronio2.f(teste['sepal.length'].iloc[i], teste['sepal.width'].iloc[i],\n",
        "        teste['petal.length'].iloc[i], teste['petal.width'].iloc[i])\n",
        "  s3 = neuronio3.f(teste['sepal.length'].iloc[i], teste['sepal.width'].iloc[i],\n",
        "        teste['petal.length'].iloc[i], teste['petal.width'].iloc[i])\n",
        "  \n",
        "  if(Converte_contrario(NeuronioSaida(s1,s2,s3)) == teste['variety'].iloc[i]):\n",
        "    acuracia+=1\n",
        "\n"
      ],
      "execution_count": null,
      "outputs": []
    },
    {
      "cell_type": "markdown",
      "metadata": {
        "id": "TAmvFnVBU0f0"
      },
      "source": [
        "#Métrica de avaliação (acurácia)"
      ]
    },
    {
      "cell_type": "code",
      "metadata": {
        "colab": {
          "base_uri": "https://localhost:8080/"
        },
        "id": "UWEgoPMUK8FP",
        "outputId": "4e13d71d-caf7-4f4c-9db8-e82fcb5ff762"
      },
      "source": [
        "(acuracia/35)*100"
      ],
      "execution_count": null,
      "outputs": [
        {
          "output_type": "execute_result",
          "data": {
            "text/plain": [
              "65.71428571428571"
            ]
          },
          "metadata": {},
          "execution_count": 3
        }
      ]
    }
  ]
}
